{
 "cells": [
  {
   "cell_type": "markdown",
   "id": "1f173a92",
   "metadata": {},
   "source": [
    "<center> <h1> Escribir un programa que pregunte al usuario o genere las ventas\n",
    "de los últimos 5 días </h1> </center>\n",
    "\n",
    "--------\n",
    "\n",
    "Estudiante: Ing. Daniel Ali ALviarez Arvelay\n",
    "\n",
    "Tefl. +58 412-8970997\n",
    "\n",
    "linkedIn: https://www.linkedin.com/in/daniel-alviarez/\n",
    "\n",
    "Email: alviarezali4@gmail.com\n",
    "\n",
    "----------------"
   ]
  },
  {
   "cell_type": "markdown",
   "id": "f21ece2f",
   "metadata": {},
   "source": [
    "##### Paso 1. Importamos las librerias que se usaran en el análisis y cargaremos los datos que utilizaremos.\n"
   ]
  },
  {
   "cell_type": "code",
   "execution_count": 1,
   "id": "ccf7351e",
   "metadata": {},
   "outputs": [],
   "source": [
    "import pandas as pd\n",
    "import numpy as np"
   ]
  },
  {
   "cell_type": "code",
   "execution_count": 12,
   "id": "58032e3b",
   "metadata": {},
   "outputs": [],
   "source": [
    "# Definimos el porcentaje de descuento\n",
    "discount = 5\n",
    "answer = \"\""
   ]
  },
  {
   "cell_type": "code",
   "execution_count": 3,
   "id": "4ed99f9c",
   "metadata": {},
   "outputs": [],
   "source": [
    "# Función para calcular el porcentaje\n",
    "def percent(value, x = 5):\n",
    "    result = value*(100-x)/100\n",
    "    return result"
   ]
  },
  {
   "cell_type": "code",
   "execution_count": 4,
   "id": "81acf918",
   "metadata": {},
   "outputs": [],
   "source": [
    "# Creamos el dataframe con los datos iniciales\n",
    "df = pd.DataFrame([\n",
    "    ['Televisor',50,100],\n",
    "    ['Video Beam', 20, 85],\n",
    "    ['Reloj Casio', 35, 130],\n",
    "    ['Monitor 144Hz', 25, 250 ],\n",
    "    ['Teclado Mecanico', 30, 35]\n",
    "    ], columns=['Producto', 'N° Unidades','Precio Unitario ($)'],\n",
    "    index= pd.date_range('20220711',periods=5, freq='D' ))"
   ]
  },
  {
   "cell_type": "code",
   "execution_count": 5,
   "id": "1758983e",
   "metadata": {},
   "outputs": [],
   "source": [
    "# Añadimos una columna con el precio unitario después del descuento\n",
    "df[f\"Discount {discount}%\"] = (df['Precio Unitario ($)'].apply(lambda i: percent(i, x=discount)))"
   ]
  },
  {
   "cell_type": "code",
   "execution_count": 6,
   "id": "277e8e68",
   "metadata": {},
   "outputs": [
    {
     "name": "stdout",
     "output_type": "stream",
     "text": [
      "------------------------------ Current data ------------------------------\n",
      "                    Producto  N° Unidades  Precio Unitario ($)  Discount 5%\n",
      "2022-07-11         Televisor           50                  100        95.00\n",
      "2022-07-12        Video Beam           20                   85        80.75\n",
      "2022-07-13       Reloj Casio           35                  130       123.50\n",
      "2022-07-14     Monitor 144Hz           25                  250       237.50\n",
      "2022-07-15  Teclado Mecanico           30                   35        33.25\n"
     ]
    }
   ],
   "source": [
    "# Mostramos el dataframe inicial\n",
    "print(\"-\"*30,\"Current data\",\"-\"*30)\n",
    "print(df)"
   ]
  },
  {
   "cell_type": "code",
   "execution_count": null,
   "id": "c52ac628",
   "metadata": {},
   "outputs": [
    {
     "name": "stdout",
     "output_type": "stream",
     "text": [
      "\b\n",
      "Do you want to add any data?: (y - N): y\n",
      "Add one product: Televisor\n",
      "Add numbers of products: 50\n",
      "Which is the price per unit?: 25000\n",
      "Which date? (YYYY-MM-DD): 2023/03/07\n",
      "---------------------- The product has been added! ----------------------\n",
      "                    Producto  N° Unidades  Precio Unitario ($)  Discount 5%\n",
      "2022-07-12        Video Beam           20                 85.0        80.75\n",
      "2022-07-13       Reloj Casio           35                130.0       123.50\n",
      "2022-07-14     Monitor 144Hz           25                250.0       237.50\n",
      "2022-07-15  Teclado Mecanico           30                 35.0        33.25\n",
      "2023-03-07         Televisor           50              25000.0     23750.00\n",
      "\b\n",
      "Do you want to add any data?: (y - N): y\n",
      "Add one product: 9j\n",
      "Add numbers of products: -5\n",
      "Invalid input. Please enter a positive integer for the number of units.65\n",
      "Which is the price per unit?: k\n",
      "Invalid input. Please enter a positive number for the price per unit.-6\n",
      "Invalid input. Please enter a positive number for the price per unit.25000\n",
      "Which date? (YYYY-MM-DD): l\n",
      "Invalid format. Please enter a date in YYYY-MM-DD format5\n",
      "Invalid format. Please enter a date in YYYY-MM-DD format54\n",
      "Invalid format. Please enter a date in YYYY-MM-DD format2023-03/06\n",
      "---------------------- The product has been added! ----------------------\n",
      "                    Producto  N° Unidades  Precio Unitario ($)  Discount 5%\n",
      "2022-07-13       Reloj Casio           35                130.0       123.50\n",
      "2022-07-14     Monitor 144Hz           25                250.0       237.50\n",
      "2022-07-15  Teclado Mecanico           30                 35.0        33.25\n",
      "2023-03-07         Televisor           50              25000.0     23750.00\n",
      "2023-03-06                9j           65              25000.0     23750.00\n",
      "\b\n"
     ]
    }
   ],
   "source": [
    "# Pedimos al usuario si quiere agregar más datos\n",
    "'''Las sentencias try Except utilizada dentro del bucle While cumple la funcion de validar si el usuario esta ingresando valores\n",
    "deseados para el programa, en caso de no ser asi, se le volvera a preguntar al usuario hasta que el valor sea el correcto'''\n",
    "while True:\n",
    "    print(\"\\b\")\n",
    "    while answer not in ('y', 'yes', 'n', 'no'):\n",
    "        answer = (input(\"Do you want to add any data?: (y - N): \")).lower()\n",
    "\n",
    "    if answer in ('y', 'yes'):\n",
    "        # Pedimos los datos del nuevo producto\n",
    "        product = input('Add one product: ')\n",
    "        \n",
    "        Nunits = input('Add numbers of products: ')\n",
    "        while True:\n",
    "            try:\n",
    "                Nunits = int(Nunits)\n",
    "                if Nunits <= 0:\n",
    "                    raise ValueError\n",
    "                break\n",
    "            except ValueError:\n",
    "                Nunits = input('Invalid input. Please enter a positive integer for the number of units: ')\n",
    "       \n",
    "        price = input(\"Which is the price per unit?: \")\n",
    "        while True:\n",
    "            try:\n",
    "                price = float(price)\n",
    "                if price <= 0:\n",
    "                    raise ValueError\n",
    "                break\n",
    "            except ValueError:\n",
    "                price = input('Invalid input. Please enter a positive number for the price per unit: ')\n",
    "        \n",
    "        date = input(\"Which date? (YYYY-MM-DD): \")\n",
    "        while True:\n",
    "            try:\n",
    "                date = pd.to_datetime(date)\n",
    "                break\n",
    "            except:\n",
    "                date = input(\"Invalid format. Please enter a date in YYYY-MM-DD format: \")\n",
    "                \n",
    "        # Añadimos los datos al dataframe\n",
    "        df.loc[date] = [product, Nunits, price, percent(value=price)]\n",
    "        print('-'*22,\"The product has been added!\",'-'*22)\n",
    "        print(df.tail())\n",
    "        \n",
    "    else:\n",
    "        print(\"The program has finalized. GoodBye!\")\n",
    "        break\n",
    "    \n",
    "    answer = \"\"\n"
   ]
  },
  {
   "cell_type": "code",
   "execution_count": 9,
   "id": "35c02023",
   "metadata": {},
   "outputs": [
    {
     "name": "stdout",
     "output_type": "stream",
     "text": [
      "\n",
      "------------------------------ Informe ------------------------------\n",
      "\n",
      "Este es el dataframe con los datos de las ventas:\n",
      "                    Producto  N° Unidades  Precio Unitario ($)  Discount 5%\n",
      "2022-07-11         Televisor           50                100.0        95.00\n",
      "2022-07-12        Video Beam           20                 85.0        80.75\n",
      "2022-07-13       Reloj Casio           35                130.0       123.50\n",
      "2022-07-14     Monitor 144Hz           25                250.0       237.50\n",
      "2022-07-15  Teclado Mecanico           30                 35.0        33.25\n",
      "2023-03-07         Televisor           30              25000.0     23750.00\n",
      "\n",
      "Este es el dataframe con los precios antes y despues del descuento:\n",
      "                    Producto  Discount 5%\n",
      "2022-07-11         Televisor        95.00\n",
      "2022-07-12        Video Beam        80.75\n",
      "2022-07-13       Reloj Casio       123.50\n",
      "2022-07-14     Monitor 144Hz       237.50\n",
      "2022-07-15  Teclado Mecanico        33.25\n",
      "2023-03-07         Televisor     23750.00\n"
     ]
    }
   ],
   "source": [
    "print(\"\\n\" + \"-\"*30 + \" Informe \" + \"-\"*30)\n",
    "print(\"\\nEste es el dataframe con los datos de las ventas:\")\n",
    "print(df)\n",
    "print(\"\\nEste es el dataframe con los precios antes y despues del descuento:\")\n",
    "print(df.drop(columns=['N° Unidades', 'Precio Unitario ($)']))"
   ]
  },
  {
   "cell_type": "code",
   "execution_count": null,
   "id": "8a9253a2",
   "metadata": {},
   "outputs": [],
   "source": []
  },
  {
   "cell_type": "code",
   "execution_count": null,
   "id": "475b2f38",
   "metadata": {},
   "outputs": [],
   "source": []
  }
 ],
 "metadata": {
  "kernelspec": {
   "display_name": "Python 3",
   "language": "python",
   "name": "python3"
  },
  "language_info": {
   "codemirror_mode": {
    "name": "ipython",
    "version": 3
   },
   "file_extension": ".py",
   "mimetype": "text/x-python",
   "name": "python",
   "nbconvert_exporter": "python",
   "pygments_lexer": "ipython3",
   "version": "3.8.8"
  }
 },
 "nbformat": 4,
 "nbformat_minor": 5
}
