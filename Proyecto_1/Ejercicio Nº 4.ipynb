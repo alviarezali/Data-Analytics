{
 "cells": [
  {
   "cell_type": "markdown",
   "id": "a3c41328",
   "metadata": {},
   "source": [
    "<center> <h1> Análisis del archivo \"datos_seguros.csv\" </h1> </center>\n",
    "\n",
    "-------------------------------------\n",
    "Estudiante: Ing. Daniel Ali ALviarez Arvelay\n",
    "\n",
    "Tefl. +58 412-8970997\n",
    "\n",
    "linkedIn: https://www.linkedin.com/in/daniel-alviarez/\n",
    "\n",
    "Email: alviarezali4@gmail.com\n",
    "\n",
    "----------------\n",
    "A continuación se presentará un análisis de los datos contenidos en el archivo \"datos_seguros.csv\"."
   ]
  },
  {
   "cell_type": "markdown",
   "id": "67c86628",
   "metadata": {},
   "source": [
    "##### Paso 1. Importamos las librerias que se usaran en el análisis."
   ]
  },
  {
   "cell_type": "code",
   "execution_count": 1,
   "id": "3a99f4f0",
   "metadata": {},
   "outputs": [],
   "source": [
    "import pandas as pd"
   ]
  },
  {
   "cell_type": "markdown",
   "id": "096a863b",
   "metadata": {},
   "source": [
    "##### Paso 2. Cargamos el archivo datos_seguros.csv"
   ]
  },
  {
   "cell_type": "code",
   "execution_count": 2,
   "id": "9326c133",
   "metadata": {},
   "outputs": [],
   "source": [
    "df = pd.read_csv(\"../Data - Riesgos.csv\")"
   ]
  },
  {
   "cell_type": "markdown",
   "id": "01603b74",
   "metadata": {},
   "source": [
    "##### Paso 3. Exploramos los datos."
   ]
  },
  {
   "cell_type": "code",
   "execution_count": 3,
   "id": "34abf8b0",
   "metadata": {},
   "outputs": [
    {
     "name": "stdout",
     "output_type": "stream",
     "text": [
      "     ID  edad  meses  max_ant  ingreso  score  tipo_vivienda  zona  nivel  \\\n",
      "0  2208  33.0  128.0      6.0   3230.0  192.0              2   3.0      2   \n",
      "1  2211  32.0  185.0      7.0   2930.0  217.0              2   1.0      5   \n",
      "2  2212  28.0    NaN      7.0   1883.7  202.0              2   1.0      2   \n",
      "3  2216  56.0  200.0      0.0    850.0  194.0              2   1.0      5   \n",
      "4  2218  32.0  131.0     65.0   3200.0  200.0              2   1.0      2   \n",
      "\n",
      "   riesgo  \n",
      "0       1  \n",
      "1       1  \n",
      "2       1  \n",
      "3       1  \n",
      "4       1  \n"
     ]
    }
   ],
   "source": [
    "#Visaulizamos el DataFrame\n",
    "\n",
    "print(df.head(5))"
   ]
  },
  {
   "cell_type": "code",
   "execution_count": 4,
   "id": "7fbf9c27",
   "metadata": {},
   "outputs": [
    {
     "name": "stdout",
     "output_type": "stream",
     "text": [
      "The number of rows in the DataFrame is 4500 and the number of columns is 10, so the number of data it contains is 45000.\n"
     ]
    }
   ],
   "source": [
    "#Observamos algunas metricas para entender mas acerca de los datos\n",
    "\n",
    "print(f\"The number of rows in the DataFrame is {df.shape[0]} and the number of columns is {df.shape[1]}, so the number of data it contains is {df.shape[0]*df.shape[1]}.\")"
   ]
  },
  {
   "cell_type": "code",
   "execution_count": 5,
   "id": "fde99a51",
   "metadata": {},
   "outputs": [
    {
     "name": "stdout",
     "output_type": "stream",
     "text": [
      "The names of the columns in the DataFrame are ID, edad, meses, max_ant, ingreso, score, tipo_vivienda, zona, nivel, riesgo.\n"
     ]
    }
   ],
   "source": [
    "print(f\"The names of the columns in the DataFrame are {', '.join(x for x in df.columns.to_list())}.\")"
   ]
  },
  {
   "cell_type": "code",
   "execution_count": 6,
   "id": "285df775",
   "metadata": {},
   "outputs": [
    {
     "name": "stdout",
     "output_type": "stream",
     "text": [
      "The data types of the columns are listed below by column:\n",
      "ID                 int64\n",
      "edad             float64\n",
      "meses            float64\n",
      "max_ant          float64\n",
      "ingreso          float64\n",
      "score            float64\n",
      "tipo_vivienda      int64\n",
      "zona             float64\n",
      "nivel              int64\n",
      "riesgo             int64\n",
      "dtype: object\n"
     ]
    }
   ],
   "source": [
    "print(f\"The data types of the columns are listed below by column:\\n{df.dtypes}\")"
   ]
  },
  {
   "cell_type": "code",
   "execution_count": 7,
   "id": "6cb81624",
   "metadata": {},
   "outputs": [
    {
     "name": "stdout",
     "output_type": "stream",
     "text": [
      "The first 10 rows of the DataFrame are listed below:\n",
      "     ID  edad  meses  max_ant  ingreso  score  tipo_vivienda  zona  nivel  \\\n",
      "0  2208  33.0  128.0      6.0   3230.0  192.0              2   3.0      2   \n",
      "1  2211  32.0  185.0      7.0   2930.0  217.0              2   1.0      5   \n",
      "2  2212  28.0    NaN      7.0   1883.7  202.0              2   1.0      2   \n",
      "3  2216  56.0  200.0      0.0    850.0  194.0              2   1.0      5   \n",
      "4  2218  32.0  131.0     65.0   3200.0  200.0              2   1.0      2   \n",
      "5  2219  34.0  145.0      6.0   7000.0  196.0              2   5.0      2   \n",
      "6  2226   NaN  114.0      0.0   2171.5  178.0              2   2.0      1   \n",
      "7  2227  27.0  116.0      0.0    800.0  169.0              2   1.0      5   \n",
      "8  2228  26.0  182.0      6.0   3150.0  190.0              4   3.0      5   \n",
      "9  2230  25.0  154.0      1.0   2600.0  189.0              2   1.0      2   \n",
      "\n",
      "   riesgo  \n",
      "0       1  \n",
      "1       1  \n",
      "2       1  \n",
      "3       1  \n",
      "4       1  \n",
      "5       1  \n",
      "6       1  \n",
      "7       1  \n",
      "8       1  \n",
      "9       1  \n"
     ]
    }
   ],
   "source": [
    "#Listamos las primeras 10 filas\n",
    "\n",
    "print(\"The first 10 rows of the DataFrame are listed below:\")\n",
    "print(df.head(10))"
   ]
  },
  {
   "cell_type": "code",
   "execution_count": 8,
   "id": "04e8e239",
   "metadata": {},
   "outputs": [
    {
     "name": "stdout",
     "output_type": "stream",
     "text": [
      "The last 10 rows of the DataFrame are listed below:\n",
      "        ID  edad  meses  max_ant   ingreso  score  tipo_vivienda  zona  nivel  \\\n",
      "4490  1486  59.0  288.0      0.0  30000.00  207.0              2   1.0      2   \n",
      "4491  1487  55.0  294.0     57.0   9300.00  238.0              4   1.0      2   \n",
      "4492  1488  53.0  148.0    106.0  30000.00  219.0              4   1.0      2   \n",
      "4493  1491  29.0  198.0     94.0   5250.00  214.0              2   1.0      2   \n",
      "4494  1493  32.0  195.0     41.0   7500.00  219.0              2   1.0      2   \n",
      "4495  1494  54.0  510.0     87.0  24000.00  214.0              2   1.0      2   \n",
      "4496  1495  63.0  305.0     99.0   9880.73  219.0              2   5.0      2   \n",
      "4497  1496  48.0  194.0    124.0  23000.00  224.0              4   1.0      2   \n",
      "4498  1497  39.0  245.0    121.0  12450.00  240.0              4   5.0      2   \n",
      "4499  1499  65.0  674.0     38.0  20000.00  238.0              4   5.0      2   \n",
      "\n",
      "      riesgo  \n",
      "4490       0  \n",
      "4491       0  \n",
      "4492       0  \n",
      "4493       0  \n",
      "4494       0  \n",
      "4495       0  \n",
      "4496       0  \n",
      "4497       0  \n",
      "4498       0  \n",
      "4499       0  \n"
     ]
    }
   ],
   "source": [
    "#Listamos las ultimas 10 filas\n",
    "\n",
    "print(\"The last 10 rows of the DataFrame are listed below:\")\n",
    "print(df.tail(10))"
   ]
  },
  {
   "cell_type": "code",
   "execution_count": 9,
   "id": "9f5be935",
   "metadata": {},
   "outputs": [
    {
     "name": "stdout",
     "output_type": "stream",
     "text": [
      "Checking if there are null values in the DataFrame:\n",
      "ID                0\n",
      "edad             13\n",
      "meses             6\n",
      "max_ant           4\n",
      "ingreso           5\n",
      "score             5\n",
      "tipo_vivienda     0\n",
      "zona              6\n",
      "nivel             0\n",
      "riesgo            0\n",
      "dtype: int64\n"
     ]
    }
   ],
   "source": [
    "#Revisamos si existen datos nulos en los datos\n",
    "\n",
    "print(\"Checking if there are null values in the DataFrame:\")\n",
    "print(df.isnull().sum())"
   ]
  },
  {
   "cell_type": "code",
   "execution_count": 10,
   "id": "fce99f95",
   "metadata": {},
   "outputs": [
    {
     "name": "stdout",
     "output_type": "stream",
     "text": [
      "The first 1000 rows of the DataFrame have been stored in a new DataFrame called df_1000.\n"
     ]
    }
   ],
   "source": [
    "#Copiamos las primeras 1000 filas en una nueva variable.\n",
    "\n",
    "df_1000 = df.head(1000).copy()\n",
    "print(\"The first 1000 rows of the DataFrame have been stored in a new DataFrame called df_1000.\")"
   ]
  }
 ],
 "metadata": {
  "kernelspec": {
   "display_name": "Python 3",
   "language": "python",
   "name": "python3"
  },
  "language_info": {
   "codemirror_mode": {
    "name": "ipython",
    "version": 3
   },
   "file_extension": ".py",
   "mimetype": "text/x-python",
   "name": "python",
   "nbconvert_exporter": "python",
   "pygments_lexer": "ipython3",
   "version": "3.8.8"
  }
 },
 "nbformat": 4,
 "nbformat_minor": 5
}
