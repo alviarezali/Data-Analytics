{
 "cells": [
  {
   "cell_type": "markdown",
   "id": "e09f0b71",
   "metadata": {},
   "source": [
    "<center> <h1> Análisis del archivo \"datos_seguros.csv\" </h1> </center>\n",
    "\n",
    "--------\n",
    "\n",
    "Estudiante: Ing. Daniel Ali ALviarez Arvelay\n",
    "\n",
    "Tefl. +58 412-8970997\n",
    "\n",
    "linkedIn: https://www.linkedin.com/in/daniel-alviarez/\n",
    "\n",
    "Email: alviarezali4@gmail.com\n",
    "\n",
    "----------------\n",
    "\n",
    "A continuación se procederá a realizar diferentes pasos en un DataFrame donde añadiremos varias columnas donde se evidenciarán nuevas metrias de interes."
   ]
  },
  {
   "cell_type": "markdown",
   "id": "2f339286",
   "metadata": {},
   "source": [
    "##### Paso 1. Importamos las librerias que se usaran en el análisis y cargaremos los datos que utilizaremos."
   ]
  },
  {
   "cell_type": "code",
   "execution_count": 1,
   "id": "cfb5a794",
   "metadata": {},
   "outputs": [],
   "source": [
    "import pandas as pd"
   ]
  },
  {
   "cell_type": "code",
   "execution_count": 2,
   "id": "511a9a60",
   "metadata": {},
   "outputs": [
    {
     "name": "stdout",
     "output_type": "stream",
     "text": [
      "       Mes  Ventas  Gastos\n",
      "0    Enero   30500   22000\n",
      "1  Febrero   35600   23450\n",
      "2    Marzo   28300   18100\n",
      "3    Abril   33900   35700\n",
      "4     Mayo   42500   32450\n"
     ]
    }
   ],
   "source": [
    "data = {'Mes':['Enero', 'Febrero','Marzo','Abril','Mayo'],\n",
    "        'Ventas':[30500,35600,28300,33900,42500],\n",
    "        'Gastos':[22000,23450,18100,35700,32450]\n",
    "        }\n",
    "\n",
    "df = pd.DataFrame(data)\n",
    "print(df.head())"
   ]
  },
  {
   "cell_type": "markdown",
   "id": "0f5d1c63",
   "metadata": {},
   "source": [
    "##### Paso 2. Se comienza a tratar el DateFrame"
   ]
  },
  {
   "cell_type": "code",
   "execution_count": 3,
   "id": "d92e8468",
   "metadata": {},
   "outputs": [
    {
     "name": "stdout",
     "output_type": "stream",
     "text": [
      "       Mes  Ventas  Gastos   Columna 1\n",
      "0    Enero   30500   22000   72.131148\n",
      "1  Febrero   35600   23450   65.870787\n",
      "2    Marzo   28300   18100   63.957597\n",
      "3    Abril   33900   35700  105.309735\n",
      "4     Mayo   42500   32450   76.352941\n"
     ]
    }
   ],
   "source": [
    "'''Agregamos una nueva columna que llevará el nombre de columna 1 donde se representa el porcentaje\n",
    "de gasto en relacion a las ventas'''\n",
    "\n",
    "df[\"Columna 1\"]= (df[\"Gastos\"]/df['Ventas'])*100\n",
    "print(df)"
   ]
  },
  {
   "cell_type": "code",
   "execution_count": 4,
   "id": "b9a704a5",
   "metadata": {},
   "outputs": [
    {
     "name": "stdout",
     "output_type": "stream",
     "text": [
      "       Mes  Ventas  Gastos   Columna 1         Columna 2\n",
      "0    Enero   30500   22000   72.131148     Meta Superada\n",
      "1  Febrero   35600   23450   65.870787     Meta Superada\n",
      "2    Marzo   28300   18100   63.957597  Meta No Superada\n",
      "3    Abril   33900   35700  105.309735     Meta Superada\n",
      "4     Mayo   42500   32450   76.352941     Meta Superada\n"
     ]
    }
   ],
   "source": [
    "'''Anadimos una <<columna 2>> donde dira \"Meta Superada\" si el valor de ventas es mayor a 30000\n",
    "y en vaso contrario dirá \"Meta No Superada\" '''\n",
    "\n",
    "#import numpy as np\n",
    "# df['Columna 2'] = np.where(df[\"Ventas\"]>=30000, \"Metas Superada\", \"Meta No Superada\")\n",
    "df[\"Columna 2\"] = [\"Meta Superada\" if v >= 30000 else \"Meta No Superada\" for v in df[\"Ventas\"]]\n",
    "print(df)"
   ]
  },
  {
   "cell_type": "code",
   "execution_count": 5,
   "id": "47fdc525",
   "metadata": {},
   "outputs": [
    {
     "name": "stdout",
     "output_type": "stream",
     "text": [
      "       Mes  Ventas  Gastos   Columna 1         Columna 2  Columna 3\n",
      "0    Enero   30500   22000   72.131148     Meta Superada          0\n",
      "1  Febrero   35600   23450   65.870787     Meta Superada          0\n",
      "2    Marzo   28300   18100   63.957597  Meta No Superada          0\n",
      "3    Abril   33900   35700  105.309735     Meta Superada       1800\n",
      "4     Mayo   42500   32450   76.352941     Meta Superada          0\n"
     ]
    }
   ],
   "source": [
    "'''En la ultima columna que lleva como nombre <<Columna 3>> se verá la diferencia entre los Gastos\n",
    "y las Ventas si el primero es mayor al segundo, de lo contrario, el resultado será 0. (Sobre gasto)'''\n",
    "\n",
    "df[\"Columna 3\"] = [x-v if x>v else 0 for x,v in zip(df[\"Gastos\"], df[\"Ventas\"])]\n",
    "print(df.head())\n"
   ]
  },
  {
   "cell_type": "code",
   "execution_count": 6,
   "id": "19a7d4ec",
   "metadata": {},
   "outputs": [
    {
     "name": "stdout",
     "output_type": "stream",
     "text": [
      "El total de ventas de los últimos 3 meses es 104700\n"
     ]
    }
   ],
   "source": [
    "#El total de ventas de los ultimos 3 meses\n",
    "\n",
    "print(f\"El total de ventas de los últimos 3 meses es {df.tail(3)['Ventas'].sum()}\")"
   ]
  },
  {
   "cell_type": "code",
   "execution_count": 7,
   "id": "01fd4525",
   "metadata": {},
   "outputs": [
    {
     "name": "stdout",
     "output_type": "stream",
     "text": [
      "El total de gastos de Febrero a Abril es 41550\n"
     ]
    }
   ],
   "source": [
    "# El total de gastos de Febrero a Abril\n",
    "\n",
    "print(f\"El total de gastos de Febrero a Abril es {df.iloc[1:3,df.columns.to_list().index('Gastos')].sum()}\")"
   ]
  }
 ],
 "metadata": {
  "kernelspec": {
   "display_name": "Python 3",
   "language": "python",
   "name": "python3"
  },
  "language_info": {
   "codemirror_mode": {
    "name": "ipython",
    "version": 3
   },
   "file_extension": ".py",
   "mimetype": "text/x-python",
   "name": "python",
   "nbconvert_exporter": "python",
   "pygments_lexer": "ipython3",
   "version": "3.8.8"
  }
 },
 "nbformat": 4,
 "nbformat_minor": 5
}
