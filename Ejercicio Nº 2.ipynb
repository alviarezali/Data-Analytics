{
 "cells": [
  {
   "cell_type": "markdown",
   "id": "8622cc0a",
   "metadata": {},
   "source": [
    "<center> <h1> Programa que recibe un diccionario </h1> </center>\n",
    "\n",
    "--------\n",
    "\n",
    "Estudiante: Ing. Daniel Ali ALviarez Arvelay\n",
    "\n",
    "Tefl. +58 412-8970997\n",
    "\n",
    "linkedIn: https://www.linkedin.com/in/daniel-alviarez/\n",
    "\n",
    "Email: alviarezali4@gmail.com\n",
    "\n",
    "----------------"
   ]
  },
  {
   "cell_type": "markdown",
   "id": "46b3f029",
   "metadata": {},
   "source": [
    "##### Paso 1. Importamos las librerias que se usaran en el análisis y cargaremos los datos que utilizaremos.\n"
   ]
  },
  {
   "cell_type": "code",
   "execution_count": 3,
   "id": "5aec5b27",
   "metadata": {},
   "outputs": [
    {
     "name": "stdout",
     "output_type": "stream",
     "text": [
      "        Date ID Client     Company  Income($)\n",
      "0 2022-02-21      0021     Digitel      25000\n",
      "1 2022-02-21      0025  Telefonica      12000\n",
      "2 2022-02-21      0021     Digitel      13500\n",
      "3 2022-02-21      0027        AT&T      84000\n",
      "4 2022-02-21      0027        AT&T      12100\n"
     ]
    }
   ],
   "source": [
    "import pandas as pd\n",
    "\n",
    "# Asignar None a la variable answer\n",
    "answer=None\n",
    "\n",
    "# Crear un diccionario con datos de ejemplo\n",
    "data = {\n",
    "    'Date': ['2022-02-21','2022-02-21','2022-02-21','2022-02-21','2022-02-21'],\n",
    "    'ID Client': [\"0021\",\"0025\",\"0021\",\"0027\",\"0027\"],\n",
    "    'Company': ['Digitel', 'Telefonica','Digitel', 'AT&T','AT&T'],\n",
    "    'Income($)': [25000,12000,13500,84000,12100]\n",
    "}\n",
    "\n",
    "df = pd.DataFrame(data)\n",
    "df['Date'] = pd.to_datetime(df['Date']) \n",
    "print(df.head())"
   ]
  },
  {
   "cell_type": "markdown",
   "id": "cd4e9b0c",
   "metadata": {},
   "source": [
    "##### Paso 2. Procedemos con el programa que nos pedirá los datos y reflejerá las metricas deseadas"
   ]
  },
  {
   "cell_type": "code",
   "execution_count": 6,
   "id": "ad954031",
   "metadata": {},
   "outputs": [
    {
     "name": "stdout",
     "output_type": "stream",
     "text": [
      "Do you want to add any data?: (y - N): y\n",
      "Which is the Id cliente?: 0025\n",
      "Which is the name Company?: Telefonica\n",
      "Please, enter the Income ($): 37000\n",
      "Which date? (YYYY-MM-DD): 2023-03-02\n",
      "---------------------- The date has been added! ----------------------\n",
      "        Date ID Client     Company  Income($)\n",
      "0 2022-02-21      0021     Digitel      25000\n",
      "1 2022-02-21      0025  Telefonica      12000\n",
      "2 2022-02-21      0021     Digitel      13500\n",
      "3 2022-02-21      0027        AT&T      84000\n",
      "4 2022-02-21      0027        AT&T      12100\n",
      "5 2023-03-02      0025  Telefonica      37000\n",
      "\n",
      "\n",
      "--------------- Statistics by Company ---------------\n",
      "              min    max   mean\n",
      "Company                        \n",
      "AT&T        12100  84000  48050\n",
      "Digitel     13500  25000  19250\n",
      "Telefonica  12000  37000  24500\n",
      "Do you want to add any data?: (y - N): n\n",
      "The program has finalized. GoodBye!\n"
     ]
    }
   ],
   "source": [
    "while True:\n",
    "    # Pedir al usuario que ingrese si desea agregar más datos\n",
    "    while answer not in ('y', 'yes', 'n', 'no'):\n",
    "        answer = (input(\"Do you want to add any data?: (y - N): \")).lower()\n",
    "    \n",
    "    # Si la respuesta es afirmativa, solicitar datos adicionales\n",
    "    if answer in ('y', 'yes'):\n",
    "        IdClient= input(\"Which is the Id cliente?: \")\n",
    "        company = input(\"Which is the name Company?: \")\n",
    "        \n",
    "        # Pedir al usuario que ingrese el ingreso econimico y validamos\n",
    "        while True:\n",
    "            income = int(input(\"Please, enter the Income ($): \"))\n",
    "            try:\n",
    "                if income <= 0:\n",
    "                    raise ValueError\n",
    "                break\n",
    "            except:\n",
    "                print(\"Invalid input. Please enter a positive integer for the Income\") \n",
    "        \n",
    "        # Pedir al usuario que ingrese la fecha y validamos\n",
    "        while True:\n",
    "            date = input(\"Which date? (YYYY-MM-DD): \")\n",
    "            try:\n",
    "                date = pd.to_datetime(date)\n",
    "                break\n",
    "            except:\n",
    "                print(\"Invalid format. Please enter a date in YYYY-MM-DD format\") \n",
    "\n",
    "        # Crear un diccionario con los nuevos datos ingresados\n",
    "        newLine = {'Date': date, 'ID Client': IdClient, 'Company': company, 'Income($)': income}\n",
    "        # Agregar los nuevos datos al DataFrame\n",
    "        df = df.append(pd.DataFrame(newLine, index=[0]), ignore_index=True)\n",
    "        print('-'*22,\"The date has been added!\",'-'*22)\n",
    "        \n",
    "        # Calcular las estadísticas de ingresos por compañía\n",
    "        stats_by_company = df.groupby(['Company'])['Income($)'].agg(['min', 'max', 'mean'])\n",
    "        \n",
    "        # Imprimir el DataFrame actualizado y las estadísticas de ingresos por compañía\n",
    "        print(df)\n",
    "        print(\"\\n\")\n",
    "        print(\"-\"*15,\"Statistics by Company\",\"-\"*15)\n",
    "        print(stats_by_company)\n",
    "    \n",
    "    # Si la respuesta es negativa, terminar el programa\n",
    "    else:\n",
    "        print(\"The program has finalized. GoodBye!\")\n",
    "        break\n",
    "    \n",
    "    # Resetear la variable answer\n",
    "    answer = None"
   ]
  }
 ],
 "metadata": {
  "kernelspec": {
   "display_name": "Python 3",
   "language": "python",
   "name": "python3"
  },
  "language_info": {
   "codemirror_mode": {
    "name": "ipython",
    "version": 3
   },
   "file_extension": ".py",
   "mimetype": "text/x-python",
   "name": "python",
   "nbconvert_exporter": "python",
   "pygments_lexer": "ipython3",
   "version": "3.8.8"
  }
 },
 "nbformat": 4,
 "nbformat_minor": 5
}
