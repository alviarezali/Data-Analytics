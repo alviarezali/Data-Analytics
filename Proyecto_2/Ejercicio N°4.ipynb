{
 "cells": [
  {
   "cell_type": "markdown",
   "id": "915e6459",
   "metadata": {},
   "source": [
    "<center><h1>Ejercicio N°4</h1></center><br> <br>\n",
    "<b style=\"font-size:15px\">Crear una función que muestre los siguientes gráficos (simultáneamente) para las variables numéricas, según una variable cualitativa:</b>\n",
    "<ul>\n",
    "<li>Cajas y bigotes</li>\n",
    "<li>Barras de la media</li>\n",
    "<li>Histograma con densidad (Curva)</li>\n",
    "</ul>\n",
    "<p>La función debe contar con su respectiva documentación.</p>\n",
    "\n",
    "--------\n",
    "\n",
    "Estudiante: Ing. Daniel Ali ALviarez Arvelay\n",
    "\n",
    "Tefl. +58 412-8970997\n",
    "\n",
    "linkedIn: https://www.linkedin.com/in/daniel-alviarez/\n",
    "\n",
    "Email: alviarezali4@gmail.com\n",
    "\n",
    "----------------"
   ]
  },
  {
   "cell_type": "code",
   "execution_count": 1,
   "id": "557fb686",
   "metadata": {},
   "outputs": [],
   "source": [
    "#Importamos las librerias necesarias\n",
    "import matplotlib.pyplot as plt\n",
    "import seaborn as sns\n",
    "import pandas as pd\n",
    "import numpy as np"
   ]
  },
  {
   "cell_type": "code",
   "execution_count": 2,
   "id": "728d3fdc",
   "metadata": {},
   "outputs": [
    {
     "name": "stdout",
     "output_type": "stream",
     "text": [
      "<class 'pandas.core.frame.DataFrame'>\n",
      "RangeIndex: 406 entries, 0 to 405\n",
      "Data columns (total 9 columns):\n",
      " #   Column             Non-Null Count  Dtype  \n",
      "---  ------             --------------  -----  \n",
      " 0   Millas_Por_Galon   398 non-null    float64\n",
      " 1   Cilindros          406 non-null    int64  \n",
      " 2   Pais_Origen        406 non-null    object \n",
      " 3   Peso_En_Libras     406 non-null    int64  \n",
      " 4   Desplazamiento     406 non-null    float64\n",
      " 5   Aceleracion        406 non-null    float64\n",
      " 6   Nombre             406 non-null    object \n",
      " 7   Anyo               406 non-null    object \n",
      " 8   Caballo_De_Fuerza  400 non-null    float64\n",
      "dtypes: float64(4), int64(2), object(3)\n",
      "memory usage: 28.7+ KB\n"
     ]
    }
   ],
   "source": [
    "# Importamos el conjunto de datos que Utilizaremos para testear la funcion\n",
    "df = pd.read_csv(\"autos.csv\", sep=\";\")\n",
    "df.info()"
   ]
  },
  {
   "cell_type": "code",
   "execution_count": 3,
   "id": "c610eced",
   "metadata": {},
   "outputs": [
    {
     "data": {
      "text/html": [
       "<div>\n",
       "<style scoped>\n",
       "    .dataframe tbody tr th:only-of-type {\n",
       "        vertical-align: middle;\n",
       "    }\n",
       "\n",
       "    .dataframe tbody tr th {\n",
       "        vertical-align: top;\n",
       "    }\n",
       "\n",
       "    .dataframe thead th {\n",
       "        text-align: right;\n",
       "    }\n",
       "</style>\n",
       "<table border=\"1\" class=\"dataframe\">\n",
       "  <thead>\n",
       "    <tr style=\"text-align: right;\">\n",
       "      <th></th>\n",
       "      <th>Millas_Por_Galon</th>\n",
       "      <th>Cilindros</th>\n",
       "      <th>Pais_Origen</th>\n",
       "      <th>Peso_En_Libras</th>\n",
       "      <th>Desplazamiento</th>\n",
       "      <th>Aceleracion</th>\n",
       "      <th>Nombre</th>\n",
       "      <th>Anyo</th>\n",
       "      <th>Caballo_De_Fuerza</th>\n",
       "    </tr>\n",
       "  </thead>\n",
       "  <tbody>\n",
       "    <tr>\n",
       "      <th>0</th>\n",
       "      <td>18.0</td>\n",
       "      <td>8</td>\n",
       "      <td>USA</td>\n",
       "      <td>3504</td>\n",
       "      <td>307.0</td>\n",
       "      <td>12.0</td>\n",
       "      <td>chevrolet chevelle malibu</td>\n",
       "      <td>1/01/1970</td>\n",
       "      <td>130.0</td>\n",
       "    </tr>\n",
       "    <tr>\n",
       "      <th>1</th>\n",
       "      <td>15.0</td>\n",
       "      <td>8</td>\n",
       "      <td>USA</td>\n",
       "      <td>3693</td>\n",
       "      <td>350.0</td>\n",
       "      <td>11.5</td>\n",
       "      <td>buick skylark 320</td>\n",
       "      <td>1/01/1970</td>\n",
       "      <td>165.0</td>\n",
       "    </tr>\n",
       "    <tr>\n",
       "      <th>2</th>\n",
       "      <td>18.0</td>\n",
       "      <td>8</td>\n",
       "      <td>USA</td>\n",
       "      <td>3436</td>\n",
       "      <td>318.0</td>\n",
       "      <td>11.0</td>\n",
       "      <td>plymouth satellite</td>\n",
       "      <td>1/01/1970</td>\n",
       "      <td>150.0</td>\n",
       "    </tr>\n",
       "    <tr>\n",
       "      <th>3</th>\n",
       "      <td>16.0</td>\n",
       "      <td>8</td>\n",
       "      <td>USA</td>\n",
       "      <td>3433</td>\n",
       "      <td>304.0</td>\n",
       "      <td>12.0</td>\n",
       "      <td>amc rebel sst</td>\n",
       "      <td>1/01/1970</td>\n",
       "      <td>150.0</td>\n",
       "    </tr>\n",
       "    <tr>\n",
       "      <th>4</th>\n",
       "      <td>17.0</td>\n",
       "      <td>8</td>\n",
       "      <td>USA</td>\n",
       "      <td>3449</td>\n",
       "      <td>302.0</td>\n",
       "      <td>10.5</td>\n",
       "      <td>ford torino</td>\n",
       "      <td>1/01/1970</td>\n",
       "      <td>140.0</td>\n",
       "    </tr>\n",
       "  </tbody>\n",
       "</table>\n",
       "</div>"
      ],
      "text/plain": [
       "   Millas_Por_Galon  Cilindros Pais_Origen  Peso_En_Libras  Desplazamiento  \\\n",
       "0              18.0          8         USA            3504           307.0   \n",
       "1              15.0          8         USA            3693           350.0   \n",
       "2              18.0          8         USA            3436           318.0   \n",
       "3              16.0          8         USA            3433           304.0   \n",
       "4              17.0          8         USA            3449           302.0   \n",
       "\n",
       "   Aceleracion                     Nombre       Anyo  Caballo_De_Fuerza  \n",
       "0         12.0  chevrolet chevelle malibu  1/01/1970              130.0  \n",
       "1         11.5          buick skylark 320  1/01/1970              165.0  \n",
       "2         11.0         plymouth satellite  1/01/1970              150.0  \n",
       "3         12.0              amc rebel sst  1/01/1970              150.0  \n",
       "4         10.5                ford torino  1/01/1970              140.0  "
      ]
     },
     "execution_count": 3,
     "metadata": {},
     "output_type": "execute_result"
    }
   ],
   "source": [
    "#Mostramos los datos\n",
    "df.head()"
   ]
  },
  {
   "cell_type": "code",
   "execution_count": 4,
   "id": "75b34d23",
   "metadata": {},
   "outputs": [],
   "source": [
    "#Creamos la funcion que graficará nuestras variables de interes\n",
    "\n",
    "def plot_function(df, var_numeric, var_categoric):\n",
    "    '''Recibe 3 parametros, el primero es el DataFrame, el 2do y el 3ero son los nombres de las columnas que quiere graficar.\n",
    "    Es importante considerar que la primera variable de las columnas es la que será graficada en el histograma'''\n",
    "    \n",
    "    \n",
    "    fig = plt.figure(figsize=(10,5))\n",
    "    \n",
    "    #Graficar Barras de la Media\n",
    "    plt.subplot(1,3,1)\n",
    "    sns.barplot(x=var_categoric, y=var_numeric, data=df, estimator=np.mean)\n",
    "    plt.title(\"Barras de la Media\")\n",
    "    \n",
    "    #Grafica de Cajas y Bigotes\n",
    "    plt.subplot(1,3,2)\n",
    "    sns.boxplot(x=var_categoric, y=var_numeric, data=df)\n",
    "    plt.title(\"Cajas y Bigotes\")\n",
    "    \n",
    "    \n",
    "    # Graficar histograma con densidad\n",
    "    plt.subplot(1,3,3)\n",
    "    sns.histplot(x=var_categoric, data=df, kde=True)\n",
    "    plt.title(\"Histograma con Densidad\")\n",
    "    \n",
    "    #Ajusta las funciones a los layouts\n",
    "    plt.tight_layout()\n",
    "    #Muestra los graficos\n",
    "    plt.show()\n",
    "    "
   ]
  },
  {
   "cell_type": "code",
   "execution_count": 5,
   "id": "2b15fb9b",
   "metadata": {},
   "outputs": [
    {
     "data": {
      "image/png": "[encoded data removed]",
      "text/plain": [
       "<Figure size 720x360 with 3 Axes>"
      ]
     },
     "metadata": {
      "needs_background": "light"
     },
     "output_type": "display_data"
    }
   ],
   "source": [
    "#Llama a la funcion\n",
    "plot_function(df, \"Aceleracion\", \"Pais_Origen\")"
   ]
  },
  {
   "cell_type": "code",
   "execution_count": null,
   "id": "78385ac7",
   "metadata": {},
   "outputs": [],
   "source": []
  },
  {
   "cell_type": "code",
   "execution_count": null,
   "id": "e186835a",
   "metadata": {},
   "outputs": [],
   "source": []
  }
 ],
 "metadata": {
  "kernelspec": {
   "display_name": "Python 3",
   "language": "python",
   "name": "python3"
  },
  "language_info": {
   "codemirror_mode": {
    "name": "ipython",
    "version": 3
   },
   "file_extension": ".py",
   "mimetype": "text/x-python",
   "name": "python",
   "nbconvert_exporter": "python",
   "pygments_lexer": "ipython3",
   "version": "3.8.8"
  }
 },
 "nbformat": 4,
 "nbformat_minor": 5
}
