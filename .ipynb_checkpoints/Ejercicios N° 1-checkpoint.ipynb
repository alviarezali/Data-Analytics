{
 "cells": [
  {
   "cell_type": "markdown",
   "id": "7d5e8752",
   "metadata": {},
   "source": [
    "<center> <h1> Escribir un programa que pregunte al usuario o genere las ventas\n",
    "de los últimos 5 días </h1> </center>\n",
    "\n",
    "--------\n",
    "\n",
    "Estudiante: Ing. Daniel Ali ALviarez Arvelay\n",
    "\n",
    "Tefl. +58 412-8970997\n",
    "\n",
    "linkedIn: https://www.linkedin.com/in/daniel-alviarez/\n",
    "\n",
    "Email: alviarezali4@gmail.com\n",
    "\n",
    "----------------"
   ]
  },
  {
   "cell_type": "markdown",
   "id": "e3b7ee0b",
   "metadata": {},
   "source": [
    "##### Paso 1. Importamos las librerias que se usaran en el análisis y cargaremos los datos que utilizaremos.\n"
   ]
  },
  {
   "cell_type": "code",
   "execution_count": 1,
   "id": "dfd44521",
   "metadata": {},
   "outputs": [],
   "source": [
    "import pandas as pd\n",
    "import numpy as np"
   ]
  },
  {
   "cell_type": "code",
   "execution_count": 2,
   "id": "37c8ba85",
   "metadata": {},
   "outputs": [],
   "source": [
    "# Definimos el porcentaje de descuento\n",
    "discount = 5\n",
    "answer = \"\""
   ]
  },
  {
   "cell_type": "code",
   "execution_count": 3,
   "id": "97078bfe",
   "metadata": {},
   "outputs": [],
   "source": [
    "# Función para calcular el porcentaje\n",
    "def percent(value, x = 5):\n",
    "    result = value*(100-x)/100\n",
    "    return result"
   ]
  },
  {
   "cell_type": "code",
   "execution_count": 4,
   "id": "d79c4e3e",
   "metadata": {},
   "outputs": [],
   "source": [
    "# Creamos el dataframe con los datos iniciales\n",
    "df = pd.DataFrame([\n",
    "    ['Televisor',50,100],\n",
    "    ['Video Beam', 20, 85],\n",
    "    ['Reloj Casio', 35, 130],\n",
    "    ['Monitor 144Hz', 25, 250 ],\n",
    "    ['Teclado Mecanico', 30, 35]\n",
    "    ], columns=['Producto', 'N° Unidades','Precio Unitario ($)'],\n",
    "    index= pd.date_range('20220711',periods=5, freq='D' ))"
   ]
  },
  {
   "cell_type": "code",
   "execution_count": 5,
   "id": "b964f643",
   "metadata": {},
   "outputs": [],
   "source": [
    "# Añadimos una columna con el precio unitario después del descuento\n",
    "df[f\"Discount {discount}%\"] = (df['Precio Unitario ($)'].apply(lambda i: percent(i, x=discount)))"
   ]
  },
  {
   "cell_type": "code",
   "execution_count": 6,
   "id": "fc866b64",
   "metadata": {},
   "outputs": [
    {
     "name": "stdout",
     "output_type": "stream",
     "text": [
      "------------------------------ Current data ------------------------------\n",
      "                    Producto  N° Unidades  Precio Unitario ($)  Discount 5%\n",
      "2022-07-11         Televisor           50                  100        95.00\n",
      "2022-07-12        Video Beam           20                   85        80.75\n",
      "2022-07-13       Reloj Casio           35                  130       123.50\n",
      "2022-07-14     Monitor 144Hz           25                  250       237.50\n",
      "2022-07-15  Teclado Mecanico           30                   35        33.25\n"
     ]
    }
   ],
   "source": [
    "# Mostramos el dataframe inicial\n",
    "print(\"-\"*30,\"Current data\",\"-\"*30)\n",
    "print(df)"
   ]
  },
  {
   "cell_type": "code",
   "execution_count": 7,
   "id": "b454c654",
   "metadata": {},
   "outputs": [
    {
     "name": "stdout",
     "output_type": "stream",
     "text": [
      "\b\n",
      "Do you want to add any data?: (y - N): y\n",
      "Add one product: Televisor\n",
      "Add numbers of products: 30\n",
      "Which is the price per unit?: 25000\n",
      "Which date? (YYYY-MM-DD): 2023/03/07\n",
      "---------------------- The product has been added! ----------------------\n",
      "                    Producto  N° Unidades  Precio Unitario ($)  Discount 5%\n",
      "2022-07-12        Video Beam           20                 85.0        80.75\n",
      "2022-07-13       Reloj Casio           35                130.0       123.50\n",
      "2022-07-14     Monitor 144Hz           25                250.0       237.50\n",
      "2022-07-15  Teclado Mecanico           30                 35.0        33.25\n",
      "2023-03-07         Televisor           30              25000.0     23750.00\n",
      "\b\n",
      "Do you want to add any data?: (y - N): n\n",
      "The program has finalized. GoodBye!\n"
     ]
    }
   ],
   "source": [
    "# Pedimos al usuario si quiere agregar más datos\n",
    "'''Las sentencias try Except utilizada dentro del bucle While cumple la funcion de validar si el usuario esta ingresando valores\n",
    "deseados para el programa, en caso de no ser asi, se le volvera a preguntar al usuario hasta que el valor sea el correcto'''\n",
    "while True:\n",
    "    print(\"\\b\")\n",
    "    while answer not in ('y', 'yes', 'n', 'no'):\n",
    "        answer = (input(\"Do you want to add any data?: (y - N): \")).lower()\n",
    "\n",
    "    if answer in ('y', 'yes'):\n",
    "        # Pedimos los datos del nuevo producto\n",
    "        product = input('Add one product: ')\n",
    "        while True:\n",
    "            Nunits = input('Add numbers of products: ')\n",
    "            try:\n",
    "                Nunits = int(Nunits)\n",
    "                if Nunits <= 0:\n",
    "                    raise ValueError\n",
    "                break\n",
    "            except ValueError:\n",
    "                print('Invalid input. Please enter a positive integer for the number of units.')\n",
    "        while True:\n",
    "            price = input(\"Which is the price per unit?: \")\n",
    "            try:\n",
    "                price = float(price)\n",
    "                if price <= 0:\n",
    "                    raise ValueError\n",
    "                break\n",
    "            except ValueError:\n",
    "                print('Invalid input. Please enter a positive number for the price per unit.')\n",
    "                \n",
    "        while True:\n",
    "            date = input(\"Which date? (YYYY-MM-DD): \")\n",
    "            try:\n",
    "                date = pd.to_datetime(date)\n",
    "                break\n",
    "            except:\n",
    "                print(\"Invalid format. Please enter a date in YYYY-MM-DD format\")\n",
    "                \n",
    "        # Añadimos los datos al dataframe\n",
    "        df.loc[date] = [product, Nunits, price, percent(value=price)]\n",
    "        print('-'*22,\"The product has been added!\",'-'*22)\n",
    "        print(df.tail())\n",
    "        \n",
    "    else:\n",
    "        print(\"The program has finalized. GoodBye!\")\n",
    "        break\n",
    "    \n",
    "    answer = \"\"\n"
   ]
  },
  {
   "cell_type": "code",
   "execution_count": 9,
   "id": "5bf0c8ed",
   "metadata": {},
   "outputs": [
    {
     "name": "stdout",
     "output_type": "stream",
     "text": [
      "\n",
      "------------------------------ Informe ------------------------------\n",
      "\n",
      "Este es el dataframe con los datos de las ventas:\n",
      "                    Producto  N° Unidades  Precio Unitario ($)  Discount 5%\n",
      "2022-07-11         Televisor           50                100.0        95.00\n",
      "2022-07-12        Video Beam           20                 85.0        80.75\n",
      "2022-07-13       Reloj Casio           35                130.0       123.50\n",
      "2022-07-14     Monitor 144Hz           25                250.0       237.50\n",
      "2022-07-15  Teclado Mecanico           30                 35.0        33.25\n",
      "2023-03-07         Televisor           30              25000.0     23750.00\n",
      "\n",
      "Este es el dataframe con los precios antes y despues del descuento:\n",
      "                    Producto  Discount 5%\n",
      "2022-07-11         Televisor        95.00\n",
      "2022-07-12        Video Beam        80.75\n",
      "2022-07-13       Reloj Casio       123.50\n",
      "2022-07-14     Monitor 144Hz       237.50\n",
      "2022-07-15  Teclado Mecanico        33.25\n",
      "2023-03-07         Televisor     23750.00\n"
     ]
    }
   ],
   "source": [
    "print(\"\\n\" + \"-\"*30 + \" Informe \" + \"-\"*30)\n",
    "print(\"\\nEste es el dataframe con los datos de las ventas:\")\n",
    "print(df)\n",
    "print(\"\\nEste es el dataframe con los precios antes y despues del descuento:\")\n",
    "print(df.drop(columns=['N° Unidades', 'Precio Unitario ($)']))"
   ]
  },
  {
   "cell_type": "code",
   "execution_count": null,
   "id": "41c51775",
   "metadata": {},
   "outputs": [],
   "source": []
  },
  {
   "cell_type": "code",
   "execution_count": null,
   "id": "5104d33a",
   "metadata": {},
   "outputs": [],
   "source": []
  }
 ],
 "metadata": {
  "kernelspec": {
   "display_name": "Python 3",
   "language": "python",
   "name": "python3"
  },
  "language_info": {
   "codemirror_mode": {
    "name": "ipython",
    "version": 3
   },
   "file_extension": ".py",
   "mimetype": "text/x-python",
   "name": "python",
   "nbconvert_exporter": "python",
   "pygments_lexer": "ipython3",
   "version": "3.8.8"
  }
 },
 "nbformat": 4,
 "nbformat_minor": 5
}
